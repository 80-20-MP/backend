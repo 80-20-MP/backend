{
 "cells": [
  {
   "cell_type": "markdown",
   "metadata": {},
   "source": [
    "Тег - короткое слово, описывающее одну из характеристик товара. У товара может быть несколько тегов, один тег может быть у нескольких товаров. Мы задаем множество тегов, стараясь включить теги для описания любых товаров на площадке. Естественно, у нас не хватает знания во всех предметных областях, поэтому сразу наших тегов не будет достаточно. Их можно будет расширять по запросу продавцов при одобрении модератора.\n",
    "\n",
    "Категория - множество тегов, один из которых описывает товар. Например, существует корневая категория, включающая теги \"авто\", \"одежда\", \"продукты\"(для примера 3 тега, в реальности их больше). У каждого тега могут быть дочерние категории. Это значит, что если товар имеет этот тег, он может иметь теги из дочерних категорий. Например, товар, имеющий тег \"одежда\" имеет дочернюю категорию \"ткань\"\n",
    "товар с тегом \"авто\" имеет дочернюю категорию \"марка авто\". Сложно вручную за короткое время выявить все возможные отношения тегов, но выявление этих отношений должно облегчить поиск товаров и получение тегов из запроса, а в перспективе можно улучшить существующие отношения.\n",
    "\n",
    "\"но это же просто категории!\" - такие теги более гибкие чем простые категории, они облегчают поиск и позволяют задавать теги из одной категории совершенно разным товарам, упрощая реализацию.\n",
    "\n",
    "### udp 0.1\n",
    "- товар может иметь несколько тегов из категории (например набор из товаров разного цвета)\n",
    "- возможность рекурсивно задавать категории тегов не ограничивается (иначе это была бы строгая иерархия). Адекватность задания категорий - ответственность на продавца.\n",
    "- тег может относиться к нескольким категориям: один бренд может иметь товары в разных сферах. Так, многие производители электроники производят продукцию разных секторов. Иначе пришлось бы делать единую категорию \"бренд\" со всеми производителями всех категорий. *может можно придумать что-то лучше?*. Тег \"кисти\" есть в инструментах и в канцелярии, поиск должен работать по всем тегам.\n",
    "- naming style. Тег предпочтительно должен описывать множество: это должно быть слово во множественном числе или слово, подразумевающее множество вещей."
   ]
  },
  {
   "cell_type": "code",
   "execution_count": 22,
   "metadata": {},
   "outputs": [
    {
     "name": "stdout",
     "output_type": "stream",
     "text": [
      "авто одежда обувь хобби и отдых потребительская электроника животные фармацевтика красота кулинария аксессуары дом инструменты канцелярия "
     ]
    }
   ],
   "source": [
    "from dataclasses import dataclass,field\n",
    "\n",
    "@dataclass\n",
    "class tag:\n",
    "    id: int\n",
    "    name: str\n",
    "    subsidiary_categories: list['category'] = field(default_factory=list)\n",
    "\n",
    "@dataclass\n",
    "class category:\n",
    "    id: int\n",
    "    name: str\n",
    "    tags: dict[str,tag] =field(default_factory=dict)\n",
    "    \n",
    "    def add_tags(self,tag_names:list[str]):\n",
    "        for tag_name in tag_names:\n",
    "            self.tags[tag_name]=tag(tag_name)\n",
    "    def add_subsidiary_to_tags(self,subsidiary: 'category',tag_names:list[str]):\n",
    "        for tag_name in tag_names:\n",
    "            cats = self.tags[tag_name].subsidiary_categories\n",
    "            if subsidiary not in cats:\n",
    "                cats.append(subsidiary)\n",
    "                \n"
   ]
  },
  {
   "cell_type": "code",
   "execution_count": 56,
   "metadata": {},
   "outputs": [
    {
     "name": "stdout",
     "output_type": "stream",
     "text": [
      "одежда обувь хобби и отдых потребительская электроника животные фармацевтика красота кулинария аксессуары дом инструменты канцелярия "
     ]
    }
   ],
   "source": [
    "# tags demo\n",
    "root = category(\"корневая категория\")\n",
    "\n",
    "root.add_tags([\"одежда\",\"обувь\",\"хобби и отдых\",\"потребительская электроника\",\"животные\",\"аптека\",\"красота\",\"кулинария\",\"аксессуары\",\"дом\",\"инструменты\",\"канцелярия\"])\n",
    "\n",
    "sex = category(\"пол\")\n",
    "sex.add_tags([\"мужчины\",\"женщины\",\"унисекс\"])\n",
    "root.add_subsidiary_to_tags(sex,[\"одежда\",\"обувь\",\"аксессуары\"])\n",
    "\n",
    "color = category(\"цвет\")\n",
    "color.add_tags([\"бежевый\",\"белый\",\"голубой\",\"желтый\",\"зеленый\",\"коричневый\",\"красный\",\"оранжевый\",\"розовый\",\"серый\",\"синий\",\"розовый\",\"черный\"])\n",
    "root.add_subsidiary_to_tags(color,[\"одежда\",\"обувь\"])\n",
    "\n",
    "\n",
    "age = category(\"возрастная категория\")\n",
    "age.add_tags([\"младенцы\",\"дети\",\"подростки\",\"взрослые\"])\n",
    "root.add_subsidiary_to_tags(age,[\"одежда\",\"обувь\",\"хобби и отдых\"])\n",
    "\n",
    "writing = category(\"пишущие принадлежности\")\n",
    "writing.add_tags([\"ручки\",\"карандаши\",\"маркеры\",\"фломастеры\",\"кисти\",\"чернила\",\"мел\",\"мелки\"])\n",
    "root.add_subsidiary_to_tags(writing,[\"канцелярия\"])\n",
    "root.add_subsidiary_to_tags(color, [\"канцелярия\"])\n",
    "\n",
    "pencil_stiffness = category(\"твердость карандаша\")\n",
    "pencil_stiffness.add_tags([\"9H\",\"8H\",\"7H\",\"6H\",\"5H\",\"4H\",\"3H\",\"2H\",\"H\",\"F\",\"HB\",\"B\",\"2B\",\"3B\",\"4B\",\"5B\",\"6B\",\"7B\",\"8B\",\"9B\"])\n",
    "writing.add_subsidiary_to_tags(pencil_stiffness,[\"карандаши\"])\n",
    "\n",
    "for t in root.tags:\n",
    "    print(t,end=' ')"
   ]
  },
  {
   "cell_type": "code",
   "execution_count": 87,
   "metadata": {},
   "outputs": [],
   "source": [
    "# visualization\n",
    "\n",
    "from pyvis.network import Network\n",
    "import networkx as nx\n",
    "\n",
    "g = Network(notebook=False,directed=True,height='750px', width='100%',\n",
    "                  bgcolor='#222222',font_color='white')\n",
    "\n",
    "\n",
    "def draw_graph_dfs(g: Network,root:category,ids:dict[str,int]={},counter:list[int]=[0]):\n",
    "    \n",
    "    def get_id(name:str)->int:\n",
    "        id = ids.get(name)\n",
    "        if id is None:\n",
    "            id = counter[0]\n",
    "            counter[0]+=1\n",
    "            ids[name]=id\n",
    "        return id\n",
    "    \n",
    "    if len(ids)==0:\n",
    "        id = counter[0]\n",
    "        g.add_node(id,root.name,color=\"gold\",size=50)\n",
    "        ids[root.name]=id\n",
    "        counter[0]+=1\n",
    "\n",
    "    for t in root.tags.values():\n",
    "        id = get_id(t.name)\n",
    "        g.add_node(id,t.name,size=10,color=\"#A2DA5A\")\n",
    "        g.add_edge(ids[root.name],id,length=50)\n",
    "        \n",
    "        for cat in t.subsidiary_categories:\n",
    "            id = get_id(cat.name)\n",
    "            g.add_node(id,cat.name,size=20,color=\"#A877C8\",arrowStrikethrough=True)\n",
    "            g.add_edge(ids[t.name],id)\n",
    "            draw_graph_dfs(g,cat,ids,counter)\n",
    "\n",
    "\n"
   ]
  },
  {
   "cell_type": "code",
   "execution_count": 88,
   "metadata": {},
   "outputs": [],
   "source": [
    "# show demo \n",
    "\n",
    "draw_graph_dfs(g,root)\n",
    "g.show(\"tag_graph.html\")"
   ]
  },
  {
   "cell_type": "code",
   "execution_count": null,
   "metadata": {},
   "outputs": [],
   "source": [
    "# full tag list\n",
    "\n",
    "root.add_tags([\"авто\"])\n",
    "root.add_subsidiary_to_tags(color,[\"авто\"])\n",
    "\n",
    "auto_brand = category(\"автомобильная марка\")\n",
    "auto_brand.add_tags([\"Abadal\",\"Abarth\",\"Abbott-Detroit\",\"ABT\",\"AC Cars\",\"Acura\",\"Agrale\",\"Aiways\",\"Aixam\",\"Alfa Romeo\",\"Alpina\",\"Alpine\",\"Alta\",\"Alvis\",\"AMC\",\"AMG\",\"Apollo\",\"Arash\",\"Ariel\",\"ARO\",\"Arrinera\",\"Arrival\",\"Artega\",\"Ascari\",\"Askam\",\"Aston Martin\",\"Atalanta Motors\",\"Auburn\",\"Audi\",\"Audi Sport\",\"Aurus\",\"Austin\",\"Autobacs\",\"Autobianchi\",\"Axon\",\"BAC\",\"BAIC Motor\",\"Baltijas Džips\",\"Baojun\",\"Bentley\",\"Berkeley\",\"Berliet\",\"Bertone\",\"BharatBenz\",\"Bitter\",\"Bizzarrini\",\"BMW\",\"Borgward\",\"Bowler\",\"Brabus\",\"Brammo\",\"Brilliance\",\"Bristol\",\"Bronto\",\"Brooke\",\"Bufori\",\"Bugatti\",\"Buick\",\"BYD\",\"Cadillac\",\"Caparo\",\"Carlsson\",\"Caterham\",\"Changan\",\"Changfeng\",\"Chery\",\"Chevrolet\",\"Chrysler\",\"Cisitalia\",\"Citroën\",\"Cizeta\",\"Cole\",\"Corre La Licorne\",\"Corvette\",\"Dacia\",\"Daewoo\",\"DAF\",\"Daihatsu\",\"Daimler\",\"Dartz\",\"Datsun\",\"David Brown\",\"De Tomaso\",\"Delage\",\"DeLorean (DMC)\",\"Detroit Electric\",\"Devel Motors\",\"Diatto\",\"DINA\",\"DKW\",\"Dodge\",\"Dongfeng\",\"Donkervoort\",\"Drive eO\",\"DS\",\"Eagle\",\"EDAG\",\"Edsel\",\"Eicher\",\"Elemental\",\"Elfin\",\"Elva\",\"Englon\",\"ERF\",\"Eterniti\",\"Ё-Auto\",\"Facel Vega\",\"Faraday Future\",\"FAW\",\"Ferrari\",\"Fiat\",\"Fioravanti\",\"Fisker\",\"Foden Trucks\",\"Force Motors\",\"Ford\",\"Foton\",\"FPV\",\"Franklin\",\"Freightliner\",\"GAC Group\",\"Gardner Douglas\",\"GAZ\",\"Geely\",\"General Motors\",\"Genesis\",\"Geo\",\"Gilbern\",\"Gillet\",\"Ginetta\",\"GMC\",\"Gonow\",\"Great Wall\",\"Grinnall\",\"GT-R\",\"GTA Motor (Spania GTA)\",\"Gumpert\",\"Hafei\",\"Haima\",\"Haval\",\"Hawtai\",\"Hennessey\",\"Hillman\",\"Hindustan Motors\",\"Hino\",\"Hispano-Suiza\",\"Holden\",\"Hommell\",\"Honda\",\"Horch\",\"HSV\",\"Hudson\",\"Hummer\",\"Hupmobile\",\"Hyundai\",\"IC Bus\",\"Infiniti\",\"Innocenti\",\"Intermeccanica\",\"International Harvester\",\"International Trucks\",\"Iran Khodro\",\"Irizar\",\"Isdera\",\"Iso Rivolta\",\"Isuzu\",\"Iveco\",\"JAC\",\"Jaguar\",\"Jawa\",\"JBA\",\"Jeep\",\"Jensen\",\"JMC\",\"Kaiser\",\"Karma\",\"Keating\",\"Kenworth\",\"Kia\",\"Koenigsegg\",\"KTM\",\"Lada\",\"Lagonda\",\"Lamborghini\",\"Lancia\",\"Land Rover\",\"Landwind\",\"Laraki\",\"LEVC\",\"Lexus\",\"Leyland\",\"Lifan\",\"Ligier\",\"Lincoln\",\"Lister\",\"Lloyd\",\"Lobini\",\"Lotus\",\"Lucid\",\"Luxgen\",\"M BMW\",\"Mack\",\"Mahindra\",\"MAN\",\"Mansory\",\"Marcos\",\"Marlin\",\"Maserati\",\"Mastretta\",\"Maxus\",\"Maybach\",\"MAZ\",\"Mazda\",\"Mazzanti\",\"McLaren\",\"Melkus\",\"Mercedes-Benz\",\"Mercury\",\"Merkur\",\"MG\",\"Microcar\",\"Mills Extreme Vehicles\",\"Mini\",\"Mitsubishi\",\"Mitsuoka\",\"MK Sportscars\",\"Monteverdi\",\"Morgan\",\"Morris\",\"Mosler\",\"Mustang\",\"Navistar\",\"Nismo\",\"Nissan\",\"Noble\",\"Oldsmobile\",\"Oltcit\",\"Opel\",\"OSCA\",\"Paccar\",\"Pagani\",\"Panhard\",\"Panoz\",\"Pegaso\",\"Perodua\",\"Peterbilt\",\"Peugeot\",\"PGO\",\"Pierce-Arrow\",\"Pininfarina\",\"Plymouth\",\"Polestar\",\"Pontiac\",\"Porsche\",\"Praga\",\"Premier\",\"Prodrive\",\"Proton\",\"Qoros\",\"Radical Sportscars\",\"RAM\",\"Rambler\",\"Ranz\",\"Renault\",\"Renault Samsung\",\"Rezvani\",\"Riley\",\"Rimac\",\"Rinspeed\",\"Roewe\",\"Rolls-Royce\",\"Ronart Cars\",\"Rossion\",\"Rover\",\"Ruf\",\"Saab\",\"SAIC Motor\",\"SAIPA\",\"Saleen\",\"Saturn\",\"Scania\",\"Scion\",\"SEAT\",\"Setra\",\"Shelby\",\"Simca\",\"Singer\",\"Sisu Auto\",\"Škoda\",\"Smart\",\"Soueast\",\"Spirra\",\"Spyker\",\"SRT\",\"SsangYong\",\"SSC\",\"Sterling\",\"Studebaker\",\"Subaru\",\"Suffolk\",\"Suzuki\",\"Talbot\",\"Tata\",\"Tatra\",\"Tauro Sport Auto\",\"TechArt\",\"Tesla\",\"Thai Rung\",\"Toroidion\",\"Toyota\",\"Toyota Crown\",\"Tramontana\",\"Trion\",\"Triumph\",\"Troller\",\"TVR\",\"UAZ\",\"UD Trucks\",\"Ultima Sports\",\"Vandenbrink\",\"Vauxhall\",\"Vector Motors\",\"Vencer\",\"Venturi\",\"Venucia\",\"Viper\",\"Volkswagen\",\"Volvo\",\"W Motors\",\"Wanderer\",\"Wartburg\",\"Western Star\",\"Westfield\",\"Wiesmann\",\"Willys-Overland\",\"Wuling\",\"XPeng\",\"Yulon\"])\n",
    "root.add_subsidiary_to_tags(auto_brand,[\"авто\"])"
   ]
  }
 ],
 "metadata": {
  "interpreter": {
   "hash": "8005058b39217b95154c0a7dda2ea369ba06d4babcb9a1aa2e9ea402c78c9c67"
  },
  "kernelspec": {
   "display_name": "Python 3",
   "language": "python",
   "name": "python3"
  },
  "language_info": {
   "codemirror_mode": {
    "name": "ipython",
    "version": 3
   },
   "file_extension": ".py",
   "mimetype": "text/x-python",
   "name": "python",
   "nbconvert_exporter": "python",
   "pygments_lexer": "ipython3",
   "version": "3.8.12"
  }
 },
 "nbformat": 4,
 "nbformat_minor": 2
}