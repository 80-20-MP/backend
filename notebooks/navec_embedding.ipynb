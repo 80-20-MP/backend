{
 "cells": [
  {
   "cell_type": "code",
   "execution_count": null,
   "id": "dc6289af",
   "metadata": {},
   "outputs": [],
   "source": [
    "import pandas as pd\n",
    "import numpy as np\n",
    "import pymorphy2\n",
    "from navec import Navec\n",
    "from sklearn.metrics.pairwise import cosine_similarity\n",
    "from pymorphy2 import MorphAnalyzer\n",
    "from razdel import tokenize\n",
    "path = 'data/navec_hudlit_v1_12B_500K_300d_100q.tar'\n",
    "navec = Navec.load(path)\n",
    "morph = MorphAnalyzer()\n",
    "popularity = pd.read_csv('data/csv/query_popularity.csv')\n",
    "chunksize = 10 ** 4\n",
    "filename = 'data/csv/search_history.csv'\n",
    "data = pd.read_csv(filename, chunksize=chunksize)\n",
    "data = data.get_chunk(3500000)"
   ]
  },
  {
   "cell_type": "code",
   "execution_count": null,
   "id": "fdba3dd2",
   "metadata": {},
   "outputs": [],
   "source": [
    "#preprocess data from search_history\n",
    "unique_uq = data['UQ'].unique()\n",
    "x = []\n",
    "for e in unique_uq:\n",
    "    if type(e) == str:\n",
    "        x.append(e)\n",
    "x = np.array(x)\n",
    "for e in [\"/\",'!','@',\"#\",\"$\",\"%\",\"&\",\"*\",\"http\"]:\n",
    "    x = np.delete(x,np.flatnonzero(np.core.defchararray.find(x,e)!=-1))"
   ]
  },
  {
   "cell_type": "code",
   "execution_count": null,
   "id": "ded10cb5",
   "metadata": {},
   "outputs": [],
   "source": [
    "#preprocess data from query_popularity\n",
    "y = []\n",
    "unique_pop = popularity['query'].unique()\n",
    "for e in unique_pop:\n",
    "    if type(e) == str:\n",
    "        y.append(e)\n",
    "y = np.array(y)\n",
    "for e in [\"/\",'!','@',\"#\",\"$\",\"%\",\"&\",\"*\",\"http\"]:\n",
    "    y = np.delete(y,np.flatnonzero(np.core.defchararray.find(y,e)!=-1))"
   ]
  },
  {
   "cell_type": "code",
   "execution_count": null,
   "id": "a3184795",
   "metadata": {},
   "outputs": [],
   "source": [
    "#take 5k and 7r of search queries respectively\n",
    "test = x[:5000]\n",
    "# f function normalize words in the sentences \n",
    "f = lambda el: ' '.join([morph.parse(e.text)[0].normal_form for e in list(tokenize(el))])\n",
    "vf = np.vectorize(f)\n",
    "preprocessed_x = vf(test)\n",
    "preprocessed_y = vf(y[:5000])"
   ]
  },
  {
   "cell_type": "code",
   "execution_count": null,
   "id": "77be0af6",
   "metadata": {},
   "outputs": [],
   "source": [
    "def get_cosine_similarity(str_x,str_y):\n",
    "    f = lambda el: ' '.join([morph.parse(e.text)[0].normal_form for e in list(tokenize(el))])\n",
    "    try:\n",
    "        x_x = navec['<pad>']\n",
    "        for e in f(str_x).split(' '):\n",
    "            x_x+=navec[e]\n",
    "        y_y = navec['<pad>']\n",
    "        for e in f(str_y).split(' '):\n",
    "            y_y+=navec[e]\n",
    "    except KeyError:\n",
    "        pass\n",
    "    return cosine_similarity([x_x],[y_y])[0][0]"
   ]
  },
  {
   "cell_type": "code",
   "execution_count": null,
   "id": "52c0fdcc",
   "metadata": {},
   "outputs": [],
   "source": [
    "get_cosine_similarity('ботинки женские мембрана','кроссовки мужские мембрана')"
   ]
  },
  {
   "cell_type": "code",
   "execution_count": null,
   "id": "3e42aced",
   "metadata": {},
   "outputs": [],
   "source": [
    "dt_x = pd.DataFrame(columns=['UQ'],data=preprocessed_x)\n",
    "dt_y = pd.DataFrame(columns=['UQ'],data=preprocessed_y)\n",
    "\n",
    "threshold = 0.6 #less than threshold is dropped\n",
    "\n",
    "big = [[],[]]\n",
    "\n",
    "for x_s in range(50):#change max index of search_history query\n",
    "    temp = []\n",
    "    temp1 = []\n",
    "    for y_s in range(len(dt_y['UQ'])):#change here index of popularity query\n",
    "        try:\n",
    "            answ = navec['<pad>']\n",
    "            for e in dt_x['UQ'][x_s].split(' '):\n",
    "                answ+=navec[e]\n",
    "            answ2 = navec['<pad>']\n",
    "            for e in dt_y['UQ'][y_s].split(' '):\n",
    "                answ2+=navec[e]\n",
    "            if(cosine_similarity([answ],[answ2])>threshold):\n",
    "                temp.append([dt_x['UQ'][x_s],dt_y['UQ'][y_s]])\n",
    "                temp1.append(cosine_similarity([answ],[answ2]))\n",
    "        except KeyError:\n",
    "            pass\n",
    "    big[0].append(temp)\n",
    "    big[1].append(temp1)"
   ]
  },
  {
   "cell_type": "code",
   "execution_count": null,
   "id": "766156bc",
   "metadata": {
    "scrolled": true
   },
   "outputs": [],
   "source": [
    "#code to visualize\n",
    "for i in range(len(big[0])):\n",
    "    print(i)\n",
    "    c = 0\n",
    "    for e in sorted(big[1][i])[::-1]:\n",
    "        if c == 10:\n",
    "            break\n",
    "        else:\n",
    "            print(big[0][i][big[1][i].index(e)],e)\n",
    "            c+=1"
   ]
  },
  {
   "cell_type": "code",
   "execution_count": null,
   "id": "91db7249",
   "metadata": {},
   "outputs": [],
   "source": []
  }
 ],
 "metadata": {
  "kernelspec": {
   "display_name": "Python 3 (ipykernel)",
   "language": "python",
   "name": "python3"
  },
  "language_info": {
   "codemirror_mode": {
    "name": "ipython",
    "version": 3
   },
   "file_extension": ".py",
   "mimetype": "text/x-python",
   "name": "python",
   "nbconvert_exporter": "python",
   "pygments_lexer": "ipython3",
   "version": "3.8.12"
  }
 },
 "nbformat": 4,
 "nbformat_minor": 5
}
