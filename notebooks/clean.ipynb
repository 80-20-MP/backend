{
 "cells": [
  {
   "cell_type": "code",
   "execution_count": null,
   "metadata": {},
   "outputs": [],
   "source": [
    "import pandas as pd\n",
    "import os\n",
    "\n",
    "in_file = 'data/history_weathered.csv'\n",
    "out_file = 'data/with_sessions.csv'\n",
    "chunksize = 10**3\n",
    "timeframe = 300 #seconds\n",
    "min_session_size = 3\n",
    "\n",
    "session_no = 0\n",
    "\n",
    "header = True    \n",
    "for df in pd.read_csv(in_file,chunksize=chunksize,skiprows=1,dtype={'cnt':int,'weekday':int}):\n",
    "    # set timestamp\n",
    "    df['weekday']=df['weekday']+1\n",
    "    df['timestamp'] = pd.to_datetime(\"2021/09/\"+df['weekday'].astype(str)+'/'+df['time'])\n",
    "    \n",
    "    # select required columns\n",
    "    df = df[['wbuser_id','UQ','cnt','timestamp']]\n",
    "    \n",
    "    #select sessions\n",
    "    # TODO: does chunksize always include given session timeframe?\n",
    "\n",
    "    users = df[['wbuser_id']].drop_duplicates(['wbuser_id']).to_numpy().ravel()\n",
    "    \n",
    "    sessions = pd.DataFrame()\n",
    "    for u in users:\n",
    "        requests = df.loc[df['wbuser_id']==u]\n",
    "        if len(requests)<min_session_size:\n",
    "            continue\n",
    "        \n",
    "        prev = None\n",
    "        pos = 0\n",
    "        for count,row in requests.iterrows():\n",
    "            if pos==0:\n",
    "                prev = row\n",
    "                pos = 1\n",
    "                continue\n",
    "            \n",
    "            diff = (row['timestamp']-prev['timestamp']).seconds\n",
    "            if diff<timeframe:\n",
    "                if pos==1:\n",
    "                    prev['session_no'] = session_no\n",
    "                    sessions = sessions.append(prev)\n",
    "                    pos=2\n",
    "                    \n",
    "                row['session_no'] = session_no\n",
    "                sessions = sessions.append(row)\n",
    "            else:\n",
    "                session_no+=1\n",
    "        \n",
    "        session_no+=1\n",
    "    \n",
    "        # append file\n",
    "        sessions.to_csv(out_file,\n",
    "            header=header, mode='a')\n",
    "        header = False\n",
    "    "
   ]
  },
  {
   "cell_type": "code",
   "execution_count": null,
   "metadata": {},
   "outputs": [],
   "source": []
  }
 ],
 "metadata": {
  "interpreter": {
   "hash": "8005058b39217b95154c0a7dda2ea369ba06d4babcb9a1aa2e9ea402c78c9c67"
  },
  "kernelspec": {
   "display_name": "Python 3.10.0 64-bit ('venv': venv)",
   "language": "python",
   "name": "python3"
  },
  "language_info": {
   "codemirror_mode": {
    "name": "ipython",
    "version": 3
   },
   "file_extension": ".py",
   "mimetype": "text/x-python",
   "name": "python",
   "nbconvert_exporter": "python",
   "pygments_lexer": "ipython3",
   "version": "3.10.0"
  },
  "orig_nbformat": 4
 },
 "nbformat": 4,
 "nbformat_minor": 2
}
